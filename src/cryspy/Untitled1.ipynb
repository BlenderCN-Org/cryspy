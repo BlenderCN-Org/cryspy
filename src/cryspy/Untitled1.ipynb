{
 "metadata": {
  "name": "",
  "signature": "sha256:ce1227b52c4d1e65fabba1d16d88b4588bc90802d695843492c6378270c7cb2d"
 },
 "nbformat": 3,
 "nbformat_minor": 0,
 "worksheets": [
  {
   "cells": [
    {
     "cell_type": "code",
     "collapsed": false,
     "input": [
      "1+2"
     ],
     "language": "python",
     "metadata": {},
     "outputs": []
    }
   ],
   "metadata": {}
  }
 ]
}